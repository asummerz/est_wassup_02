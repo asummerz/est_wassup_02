{
 "cells": [
  {
   "cell_type": "markdown",
   "metadata": {},
   "source": [
    "# ANN 돌리기\n"
   ]
  },
  {
   "cell_type": "code",
   "execution_count": 1,
   "metadata": {},
   "outputs": [
    {
     "name": "stderr",
     "output_type": "stream",
     "text": [
      "/home/ssm/.local/lib/python3.10/site-packages/tqdm/auto.py:21: TqdmWarning: IProgress not found. Please update jupyter and ipywidgets. See https://ipywidgets.readthedocs.io/en/stable/user_install.html\n",
      "  from .autonotebook import tqdm as notebook_tqdm\n"
     ]
    },
    {
     "name": "stdout",
     "output_type": "stream",
     "text": [
      "cuda\n"
     ]
    }
   ],
   "source": [
    "import numpy as np\n",
    "import pandas as pd\n",
    "from tqdm.auto import trange\n",
    "import matplotlib.pyplot as plt\n",
    "plt.style.use('seaborn-v0_8-darkgrid')\n",
    "from sklearn.preprocessing import MinMaxScaler\n",
    "from tqdm.auto import trange\n",
    " \n",
    "import torch\n",
    "import torch.nn as nn\n",
    "import torch.nn.functional as F\n",
    "import torch.optim as optim\n",
    "from torch.utils.data import Dataset, DataLoader\n",
    "\n",
    "device = torch.device(\"cuda\" if torch.cuda.is_available() else \"cpu\")\n",
    "print(device)\n"
   ]
  },
  {
   "cell_type": "markdown",
   "metadata": {},
   "source": [
    "#### 1. 2023-2023 1년치 길이 데이터 \n",
    "#### 2. 2019-2023 4년치 길이 데이터\n"
   ]
  },
  {
   "cell_type": "code",
   "execution_count": 2,
   "metadata": {},
   "outputs": [
    {
     "name": "stdout",
     "output_type": "stream",
     "text": [
      "   Unnamed: 0  평균 수온(°C)\n",
      "0  2023-01-01       14.1\n",
      "1  2023-01-02       14.1\n",
      "2  2023-01-03       14.1\n",
      "3  2023-01-04       14.0\n",
      "4  2023-01-05       13.9\n"
     ]
    },
    {
     "data": {
      "text/html": [
       "<div>\n",
       "<style scoped>\n",
       "    .dataframe tbody tr th:only-of-type {\n",
       "        vertical-align: middle;\n",
       "    }\n",
       "\n",
       "    .dataframe tbody tr th {\n",
       "        vertical-align: top;\n",
       "    }\n",
       "\n",
       "    .dataframe thead th {\n",
       "        text-align: right;\n",
       "    }\n",
       "</style>\n",
       "<table border=\"1\" class=\"dataframe\">\n",
       "  <thead>\n",
       "    <tr style=\"text-align: right;\">\n",
       "      <th></th>\n",
       "      <th>평균 수온(°C)</th>\n",
       "    </tr>\n",
       "    <tr>\n",
       "      <th>일시</th>\n",
       "      <th></th>\n",
       "    </tr>\n",
       "  </thead>\n",
       "  <tbody>\n",
       "    <tr>\n",
       "      <th>2023-01-01</th>\n",
       "      <td>14.1</td>\n",
       "    </tr>\n",
       "    <tr>\n",
       "      <th>2023-01-02</th>\n",
       "      <td>14.1</td>\n",
       "    </tr>\n",
       "    <tr>\n",
       "      <th>2023-01-03</th>\n",
       "      <td>14.1</td>\n",
       "    </tr>\n",
       "    <tr>\n",
       "      <th>2023-01-04</th>\n",
       "      <td>14.0</td>\n",
       "    </tr>\n",
       "    <tr>\n",
       "      <th>2023-01-05</th>\n",
       "      <td>13.9</td>\n",
       "    </tr>\n",
       "    <tr>\n",
       "      <th>...</th>\n",
       "      <td>...</td>\n",
       "    </tr>\n",
       "    <tr>\n",
       "      <th>2023-12-27</th>\n",
       "      <td>15.5</td>\n",
       "    </tr>\n",
       "    <tr>\n",
       "      <th>2023-12-28</th>\n",
       "      <td>15.2</td>\n",
       "    </tr>\n",
       "    <tr>\n",
       "      <th>2023-12-29</th>\n",
       "      <td>15.3</td>\n",
       "    </tr>\n",
       "    <tr>\n",
       "      <th>2023-12-30</th>\n",
       "      <td>14.4</td>\n",
       "    </tr>\n",
       "    <tr>\n",
       "      <th>2023-12-31</th>\n",
       "      <td>14.3</td>\n",
       "    </tr>\n",
       "  </tbody>\n",
       "</table>\n",
       "<p>365 rows × 1 columns</p>\n",
       "</div>"
      ],
      "text/plain": [
       "            평균 수온(°C)\n",
       "일시                   \n",
       "2023-01-01       14.1\n",
       "2023-01-02       14.1\n",
       "2023-01-03       14.1\n",
       "2023-01-04       14.0\n",
       "2023-01-05       13.9\n",
       "...               ...\n",
       "2023-12-27       15.5\n",
       "2023-12-28       15.2\n",
       "2023-12-29       15.3\n",
       "2023-12-30       14.4\n",
       "2023-12-31       14.3\n",
       "\n",
       "[365 rows x 1 columns]"
      ]
     },
     "execution_count": 2,
     "metadata": {},
     "output_type": "execute_result"
    }
   ],
   "source": [
    "df = pd.read_csv('./data/2023-2023_all.csv')\n",
    "print(df.head())\n",
    "\n",
    "df['일시'] = df['Unnamed: 0']\n",
    "df = df.drop(columns='Unnamed: 0')\n",
    "df['일시'] = pd.to_datetime(df['일시'])\n",
    "df.set_index('일시',inplace=True)\n",
    "data = df\n",
    "data"
   ]
  },
  {
   "cell_type": "code",
   "execution_count": 3,
   "metadata": {},
   "outputs": [],
   "source": [
    "class TimeSeriesDataset(torch.utils.data.Dataset):\n",
    "  def __init__(self, ts:np.array, lookback_size:int, forecast_size:int):\n",
    "    self.lookback_size = lookback_size\n",
    "    self.forecast_size = forecast_size\n",
    "    self.data = ts\n",
    "\n",
    "  def __len__(self):\n",
    "    return len(self.data) - self.lookback_size - self.forecast_size + 1\n",
    "    # df 365개\n",
    "    # trn_df 365-20 = 345개\n",
    "    # 345 - 15 - 5 + 1 = 326개\n",
    "\n",
    "  def __getitem__(self, i):\n",
    "    idx = (i + self.lookback_size)\n",
    "    look_back = self.data[i:idx]\n",
    "    forecast = self.data[idx:idx + self.forecast_size]\n",
    "\n",
    "  # def __getitem__(self, i): # 맞는지?\n",
    "  #   idx = ((i*self.forecast_size) + self.lookback_size)\n",
    "  #   look_back = self.data[i*self.forecast_size : idx]\n",
    "  #   forecast = self.data[idx : idx + self.forecast_size]\n",
    "\n",
    "    # 0 14 / 15 19\n",
    "    # 1 15 / 16 20\n",
    "    # 2 16\n",
    "\n",
    "    # 0 14 / 15 19\n",
    "    # 5 19 / 20 24\n",
    "    # 10 24 / 25 29\n",
    "\n",
    "\n",
    "\n",
    "    return look_back, forecast"
   ]
  },
  {
   "cell_type": "markdown",
   "metadata": {},
   "source": [
    "## 하이퍼 파라미터\n",
    "### look_back = 앞에 몇 개 보고 예측할꺼냐\n",
    "### forecast = 몇개 볼 거냐, 학습할때 몇개보고 몇 개 예측할때의 예측\n",
    "### predict_size = 최종 tst_data를 며칠 예측할꺼냐\n",
    "### 스케일링 = 유무\n"
   ]
  },
  {
   "cell_type": "markdown",
   "metadata": {},
   "source": [
    "- predict_size  =  15 30 60 90 ### 정리를 할 때(발표를 할 때 , 실험은 다 함)\n",
    "- look_back = 5 15 30 60 90\n",
    "- forecast = 1 5 15 30\n",
    "- scaed = O , X\n",
    "\n",
    "- shift 방식은? --> ex : 6개 나오고 1칸 or 6개 나오고 5칸\n",
    "-- 방법론이 많다. 겹치는 부분이 평균내기도 하고, 윈도우 사이즈만큼만 가라(겹치지말고 칸씩만 움직이면서 진행-- 추천하시는 방법)\n",
    "- 1칸씩 가기에는 너무 멀다 경우에 한꺼번에 여러칸을 간다."
   ]
  },
  {
   "cell_type": "code",
   "execution_count": 26,
   "metadata": {},
   "outputs": [
    {
     "name": "stdout",
     "output_type": "stream",
     "text": [
      "            평균 수온(°C)\n",
      "일시                   \n",
      "2023-01-01       14.1\n",
      "2023-01-02       14.1\n",
      "2023-01-03       14.1\n",
      "2023-01-04       14.0\n",
      "2023-01-05       13.9\n",
      "...               ...\n",
      "2023-12-27       15.5\n",
      "2023-12-28       15.2\n",
      "2023-12-29       15.3\n",
      "2023-12-30       14.4\n",
      "2023-12-31       14.3\n",
      "\n",
      "[365 rows x 1 columns]\n",
      "(345,)\n",
      "[16.6 16.8 18.  17.9 17.8 17.6 17.2 16.9 16.9 16.8 16.7 16.4 16.4 16.5\n",
      " 15.9 15.5 15.5 15.7 15.8 15.8 15.3 15.8 15.7 14.9 14.9 15.1 15.6 15.4\n",
      " 15.  15.  15.5 15.2 15.3 14.4 14.3]\n",
      "(35,)\n"
     ]
    }
   ],
   "source": [
    "print(data)\n",
    "print(trn_df.shape)\n",
    "print(tst_df)\n",
    "print(tst_df.shape)"
   ]
  },
  {
   "cell_type": "code",
   "execution_count": 19,
   "metadata": {},
   "outputs": [
    {
     "name": "stdout",
     "output_type": "stream",
     "text": [
      "326\n",
      "16\n"
     ]
    }
   ],
   "source": [
    "print(len(trn_Ods))     # 345 - 15 -5 + 1 = 326\n",
    "print(len(tst_Ods))     # 35 - 15 -5 + 1 = 16"
   ]
  },
  {
   "cell_type": "code",
   "execution_count": 16,
   "metadata": {},
   "outputs": [
    {
     "name": "stdout",
     "output_type": "stream",
     "text": [
      "torch.Size([32, 15])\n",
      "torch.Size([16, 15])\n"
     ]
    }
   ],
   "source": [
    "print(next(iter(trn_Odl))[0].shape)\n",
    "print(next(iter(tst_Odl))[0].shape)"
   ]
  },
  {
   "cell_type": "code",
   "execution_count": null,
   "metadata": {},
   "outputs": [],
   "source": [
    "next(iter(tst_Odl))"
   ]
  },
  {
   "cell_type": "code",
   "execution_count": 22,
   "metadata": {},
   "outputs": [
    {
     "name": "stdout",
     "output_type": "stream",
     "text": [
      "torch.Size([32, 5])\n",
      "torch.Size([16, 5])\n"
     ]
    }
   ],
   "source": [
    "print(next(iter(trn_Odl))[1].shape)\n",
    "print(next(iter(tst_Odl))[1].shape)\n"
   ]
  },
  {
   "cell_type": "code",
   "execution_count": 4,
   "metadata": {},
   "outputs": [],
   "source": [
    "# 바꿔야 하는 인자 => 동적으로 변경 가능하도록 수정 예정\n",
    "pred_size = 20\n",
    "lookback_size = 15\n",
    "forecast_size = 5\n",
    "\n",
    "lr = 0.0001\n",
    "\n",
    "scaler = MinMaxScaler()\n",
    "trn_scaled = scaler.fit_transform(data[:-pred_size].to_numpy(dtype=np.float32)).flatten()\n",
    "tst_scaled = scaler.transform(data[-pred_size-lookback_size:].to_numpy(dtype=np.float32)).flatten()\n",
    "\n",
    "trn_df = data[:-pred_size].to_numpy(dtype=np.float32).flatten()\n",
    "tst_df = data[-pred_size - lookback_size:].to_numpy(dtype=np.float32).flatten()\n",
    "\n",
    "### 스케일 안한 케이스\n",
    "trn_Ods = TimeSeriesDataset(trn_df, lookback_size, forecast_size)\n",
    "tst_Ods = TimeSeriesDataset(tst_df, lookback_size, forecast_size)\n",
    "\n",
    "trn_Odl = DataLoader(trn_Ods, batch_size=32, shuffle=True)\n",
    "tst_Odl = DataLoader(tst_Ods, batch_size=pred_size, shuffle=False)\n",
    "\n",
    "#### 스케일 한 케이스\n",
    "trn_ds = TimeSeriesDataset(trn_scaled, lookback_size, forecast_size)\n",
    "tst_ds = TimeSeriesDataset(tst_scaled, lookback_size, forecast_size)\n",
    "\n",
    "trn_dl = DataLoader(trn_ds, batch_size=32, shuffle=True)\n",
    "tst_dl = DataLoader(tst_ds, batch_size=pred_size, shuffle=False)"
   ]
  },
  {
   "cell_type": "code",
   "execution_count": 6,
   "metadata": {},
   "outputs": [
    {
     "data": {
      "text/plain": [
       "torch.Size([16, 15])"
      ]
     },
     "execution_count": 6,
     "metadata": {},
     "output_type": "execute_result"
    }
   ],
   "source": [
    "next(iter(tst_dl))[0].shape"
   ]
  },
  {
   "cell_type": "markdown",
   "metadata": {},
   "source": [
    "{\n",
    "-    \"input_dim\": \"feature.shape[1]\",\n",
    "-   \"layers\": [64,32, 5],\n",
    "-    \"activations\": \"tanh\",\"tanh\"  스케일링하면 sigmoid\n",
    "-    \"dropout\": 0.0, X\n",
    "-    \"lr\": [0.01, 0.001 , 0.0001 , 0.00001]\n",
    "-    \"epochs\": [500 1000 2000 3000]\n",
    "-    \"batch_size\": 128 256 512 1024\n",
    "-    \"criterion\" : \"nn.MSELoss()\" X \n",
    "-    \"optimizer\" : \"Adam\" \"AdamW\" X\n",
    "}"
   ]
  },
  {
   "cell_type": "code",
   "execution_count": 5,
   "metadata": {},
   "outputs": [],
   "source": [
    "class Net(nn.Module):\n",
    "  def __init__(self, d_in, d_out, d_hidden, activation=F.relu):\n",
    "    super().__init__()\n",
    "    self.lin1 = nn.Linear(d_in, d_hidden)\n",
    "    self.lin2 = nn.Linear(d_hidden, d_out)\n",
    "    self.activation = activation\n",
    "\n",
    "  def forward(self, x):\n",
    "    x = self.lin1(x)\n",
    "    x = self.activation(x)\n",
    "    x = self.lin2(x)\n",
    "    return F.relu(x) # scaled 시 2가지 케이스\n",
    "  \n",
    "def mape(y_pred, y_true):\n",
    "  return (np.abs(y_pred - y_true)/y_true).mean() * 100\n",
    "\n",
    "def mae(y_pred, y_true):\n",
    "  return np.abs(y_pred - y_true).mean()"
   ]
  },
  {
   "cell_type": "code",
   "execution_count": null,
   "metadata": {},
   "outputs": [],
   "source": [
    "device = torch.device(\"cuda\" if torch.cuda.is_available() else \"cpu\")\n",
    "\n",
    "net = Net(lookback_size, forecast_size, 512)\n",
    "net.to(device)\n",
    "\n",
    "optim = torch.optim.AdamW(net.parameters(), lr=lr)\n",
    "\n",
    "pbar = trange(2000)\n",
    "for i in pbar:\n",
    "  net.train()\n",
    "  trn_loss = .0\n",
    "  for x, y in trn_Odl: # 여기 2가지 케이스\n",
    "    # 15개, 5개 in 326개\n",
    "    x, y = x.to(device), y.to(device)\n",
    "    p = net(x)    # 5개의 predict output\n",
    "    optim.zero_grad()\n",
    "    loss = F.mse_loss(p, y)   # pred 와 target 차이\n",
    "    loss.backward()\n",
    "    optim.step()\n",
    "    trn_loss += loss.item() * len(y)\n",
    "  trn_loss = trn_loss / len(trn_Ods) # 여기 2가지 케이스\n",
    "\n",
    "  net.eval()\n",
    "  with torch.inference_mode():\n",
    "    x, y = next(iter(tst_Odl)) # 여기 2가지 케이스\n",
    "    x, y = x.to(device), y.to(device)\n",
    "    p = net(x)\n",
    "    print(x.shape)\n",
    "    print(p.shape)\n",
    "    tst_loss = F.mse_loss(p, y) \n",
    "    y = y.cpu()\n",
    "    p = p.cpu()\n",
    "    \n",
    "\n",
    "\n",
    "    # mape와 mae 계산 \n",
    "    # tst_mape = mape(p,y)\n",
    "    # tst_mae = mae(p,y)\n",
    "\n",
    "\n",
    "  # pbar.set_postfix({'loss':trn_loss, 'tst_loss':tst_loss.item(), 'tst_mape':tst_mape.item(), 'tst_mae':tst_mae.item()})#, })\n",
    "  pbar.set_postfix({'loss':trn_loss, 'tst_loss':tst_loss.item()})"
   ]
  },
  {
   "cell_type": "code",
   "execution_count": 9,
   "metadata": {},
   "outputs": [
    {
     "data": {
      "text/plain": [
       "torch.Size([16, 5])"
      ]
     },
     "execution_count": 9,
     "metadata": {},
     "output_type": "execute_result"
    }
   ],
   "source": [
    "p.shape"
   ]
  },
  {
   "cell_type": "code",
   "execution_count": 10,
   "metadata": {},
   "outputs": [
    {
     "data": {
      "text/plain": [
       "tensor([[15.9576, 16.3530,  0.0000, 16.2906, 16.3239],\n",
       "        [15.4188, 15.7179,  0.0000, 15.7791, 15.8262],\n",
       "        [15.3952, 15.5221,  0.0000, 15.5337, 15.5895],\n",
       "        [15.5695, 15.6087,  0.0000, 15.5279, 15.4285],\n",
       "        [15.5581, 15.6994,  0.0000, 15.3815, 15.3014],\n",
       "        [15.6522, 15.7852,  0.0000, 15.4307, 15.4757],\n",
       "        [15.1646, 15.2114,  0.0000, 15.1232, 15.2044],\n",
       "        [15.5203, 15.5528,  0.0000, 15.3544, 15.4237],\n",
       "        [15.4652, 15.5095,  0.0000, 15.4558, 15.3912],\n",
       "        [14.6551, 14.8642,  0.0000, 15.0115, 15.0692],\n",
       "        [14.7045, 15.0223,  0.0000, 14.9124, 15.1552],\n",
       "        [15.1170, 15.2021,  0.0000, 15.2155, 15.1976],\n",
       "        [15.4897, 15.6016,  0.0000, 15.4351, 15.2210],\n",
       "        [15.2218, 15.5121,  0.0000, 15.2270, 15.2080],\n",
       "        [14.9519, 15.1255,  0.0000, 15.0249, 15.1709],\n",
       "        [14.8876, 14.9639,  0.0000, 14.9760, 15.0810]])"
      ]
     },
     "execution_count": 10,
     "metadata": {},
     "output_type": "execute_result"
    }
   ],
   "source": [
    "p"
   ]
  },
  {
   "cell_type": "code",
   "execution_count": 18,
   "metadata": {},
   "outputs": [
    {
     "name": "stdout",
     "output_type": "stream",
     "text": [
      "tensor([[16.6000, 16.8000, 18.0000, 17.9000, 17.8000, 17.6000, 17.2000, 16.9000,\n",
      "         16.9000, 16.8000, 16.7000, 16.4000, 16.4000, 16.5000, 15.9000],\n",
      "        [16.8000, 18.0000, 17.9000, 17.8000, 17.6000, 17.2000, 16.9000, 16.9000,\n",
      "         16.8000, 16.7000, 16.4000, 16.4000, 16.5000, 15.9000, 15.5000],\n",
      "        [18.0000, 17.9000, 17.8000, 17.6000, 17.2000, 16.9000, 16.9000, 16.8000,\n",
      "         16.7000, 16.4000, 16.4000, 16.5000, 15.9000, 15.5000, 15.5000],\n",
      "        [17.9000, 17.8000, 17.6000, 17.2000, 16.9000, 16.9000, 16.8000, 16.7000,\n",
      "         16.4000, 16.4000, 16.5000, 15.9000, 15.5000, 15.5000, 15.7000],\n",
      "        [17.8000, 17.6000, 17.2000, 16.9000, 16.9000, 16.8000, 16.7000, 16.4000,\n",
      "         16.4000, 16.5000, 15.9000, 15.5000, 15.5000, 15.7000, 15.8000],\n",
      "        [17.6000, 17.2000, 16.9000, 16.9000, 16.8000, 16.7000, 16.4000, 16.4000,\n",
      "         16.5000, 15.9000, 15.5000, 15.5000, 15.7000, 15.8000, 15.8000],\n",
      "        [17.2000, 16.9000, 16.9000, 16.8000, 16.7000, 16.4000, 16.4000, 16.5000,\n",
      "         15.9000, 15.5000, 15.5000, 15.7000, 15.8000, 15.8000, 15.3000],\n",
      "        [16.9000, 16.9000, 16.8000, 16.7000, 16.4000, 16.4000, 16.5000, 15.9000,\n",
      "         15.5000, 15.5000, 15.7000, 15.8000, 15.8000, 15.3000, 15.8000],\n",
      "        [16.9000, 16.8000, 16.7000, 16.4000, 16.4000, 16.5000, 15.9000, 15.5000,\n",
      "         15.5000, 15.7000, 15.8000, 15.8000, 15.3000, 15.8000, 15.7000],\n",
      "        [16.8000, 16.7000, 16.4000, 16.4000, 16.5000, 15.9000, 15.5000, 15.5000,\n",
      "         15.7000, 15.8000, 15.8000, 15.3000, 15.8000, 15.7000, 14.9000],\n",
      "        [16.7000, 16.4000, 16.4000, 16.5000, 15.9000, 15.5000, 15.5000, 15.7000,\n",
      "         15.8000, 15.8000, 15.3000, 15.8000, 15.7000, 14.9000, 14.9000],\n",
      "        [16.4000, 16.4000, 16.5000, 15.9000, 15.5000, 15.5000, 15.7000, 15.8000,\n",
      "         15.8000, 15.3000, 15.8000, 15.7000, 14.9000, 14.9000, 15.1000],\n",
      "        [16.4000, 16.5000, 15.9000, 15.5000, 15.5000, 15.7000, 15.8000, 15.8000,\n",
      "         15.3000, 15.8000, 15.7000, 14.9000, 14.9000, 15.1000, 15.6000],\n",
      "        [16.5000, 15.9000, 15.5000, 15.5000, 15.7000, 15.8000, 15.8000, 15.3000,\n",
      "         15.8000, 15.7000, 14.9000, 14.9000, 15.1000, 15.6000, 15.4000],\n",
      "        [15.9000, 15.5000, 15.5000, 15.7000, 15.8000, 15.8000, 15.3000, 15.8000,\n",
      "         15.7000, 14.9000, 14.9000, 15.1000, 15.6000, 15.4000, 15.0000],\n",
      "        [15.5000, 15.5000, 15.7000, 15.8000, 15.8000, 15.3000, 15.8000, 15.7000,\n",
      "         14.9000, 14.9000, 15.1000, 15.6000, 15.4000, 15.0000, 15.0000]],\n",
      "       device='cuda:0')\n",
      "\n",
      "tensor([[15.5000, 15.5000, 15.7000, 15.8000, 15.8000],\n",
      "        [15.5000, 15.7000, 15.8000, 15.8000, 15.3000],\n",
      "        [15.7000, 15.8000, 15.8000, 15.3000, 15.8000],\n",
      "        [15.8000, 15.8000, 15.3000, 15.8000, 15.7000],\n",
      "        [15.8000, 15.3000, 15.8000, 15.7000, 14.9000],\n",
      "        [15.3000, 15.8000, 15.7000, 14.9000, 14.9000],\n",
      "        [15.8000, 15.7000, 14.9000, 14.9000, 15.1000],\n",
      "        [15.7000, 14.9000, 14.9000, 15.1000, 15.6000],\n",
      "        [14.9000, 14.9000, 15.1000, 15.6000, 15.4000],\n",
      "        [14.9000, 15.1000, 15.6000, 15.4000, 15.0000],\n",
      "        [15.1000, 15.6000, 15.4000, 15.0000, 15.0000],\n",
      "        [15.6000, 15.4000, 15.0000, 15.0000, 15.5000],\n",
      "        [15.4000, 15.0000, 15.0000, 15.5000, 15.2000],\n",
      "        [15.0000, 15.0000, 15.5000, 15.2000, 15.3000],\n",
      "        [15.0000, 15.5000, 15.2000, 15.3000, 14.4000],\n",
      "        [15.5000, 15.2000, 15.3000, 14.4000, 14.3000]], device='cuda:0')\n",
      "torch.Size([16, 5]) torch.Size([16, 5])\n"
     ]
    }
   ],
   "source": [
    "net.eval()\n",
    "with torch.inference_mode():\n",
    "    x, y = next(iter(tst_Odl)) # 여기 2가지 케이스\n",
    "    x, y = x.to(device), y.to(device)\n",
    "    p = net(x)\n",
    "print(x)\n",
    "print()\n",
    "print(y)\n",
    "# y = scaler.inverse_transform(y.cpu())\n",
    "# p = scaler.inverse_transform(p.cpu())\n",
    "\n",
    "y = y.cpu()\n",
    "p = p.cpu()\n",
    "print(y.shape, p.shape)\n",
    "\n",
    "# y = np.concatenate([y[:,0], y[-1,1:]])\n",
    "# p = np.concatenate([p[:,0], p[-1,1:]])"
   ]
  },
  {
   "cell_type": "code",
   "execution_count": 12,
   "metadata": {},
   "outputs": [
    {
     "name": "stdout",
     "output_type": "stream",
     "text": [
      "x: [15.2 15.2 15.5 16.5 17.8 16.6 16.8 18.  17.9 17.8 17.6 17.2 16.9 16.9\n",
      " 16.8], y: [16.7 16.4 16.4 16.5 15.9]\n",
      "y: tensor([ 0.0000,  0.0000, 16.0315, 16.0448, 16.0962])\n",
      "y: tensor([ 0.0000,  0.0000, 16.5122, 15.5633, 15.7552])\n",
      "y: tensor([ 0.0000,  0.0000, 12.1888, 12.7652, 12.7266])\n",
      "y: tensor([0.0000, 0.0000, 9.2519, 9.3837, 8.5574])\n",
      "len(preds): 4\n",
      "preds: [ 0.        0.       16.031519 16.044752 16.096214  0.        0.\n",
      " 16.512224 15.563257 15.755164  0.        0.       12.188831 12.765179\n",
      " 12.726628  0.        0.        9.251853  9.38367   8.557447]\n"
     ]
    }
   ],
   "source": [
    "preds = []\n",
    "\n",
    "# 훈련 데이터에서 마지막의 input(15개), output(5개) 값을 가져옴\n",
    "x, y = trn_Ods[len(trn_Ods)-1]\n",
    "print(f'x: {x}, y: {y}')\n",
    "\n",
    "# input data를 PyTorch tensor로 변환\n",
    "x = torch.tensor(x)\n",
    "# print(np.concatenate([x, y]).shape , x.shape, y.shape)\n",
    "\n",
    "net.eval()\n",
    "# ex) lookback_size(15) + forecast_size(1) = 16 \n",
    "# > 병합된 사이즈에서 맨앞의 forecast_size만큼 제외 \n",
    "# > 구하고자 하는 forecast_size 값 설정하면 됨\n",
    "for _ in range(int(pred_size/forecast_size)): #우리가 예측할 날짜 / forecast_size\n",
    "  # input data에 현재 출력값을 이어붙이고 window_size만큼 최신 데이터로 유지\n",
    "  x = np.concatenate([x, y])[-lookback_size:] \n",
    "  # x = 20개[-15:]\n",
    "  # x 는 15개\n",
    "\n",
    "\n",
    "  # 예측을 위해 모델을 추론(평가) 모드로 설정\n",
    "  with torch.inference_mode():\n",
    "    # 예측을 수행한 결과값을 CPU에 올림\n",
    "    y = net(torch.tensor(x).cuda()).cpu()\n",
    "    print(f'y: {y}')\n",
    "    ## y = 15 , 1 # 15일보고 1개 예측\n",
    "    ## y = 15 , 5 # 15일보고 5개 예측\n",
    "  preds.append(y)\n",
    "\n",
    "print(f'len(preds): {len(preds)}')\n",
    "# len(preds) = 4 개 (for문 range만큼)\n",
    "\n",
    "preds = np.concatenate(preds) # 예측 결과값을 하나의 Numpy 배열로 병합\n",
    "print(f'preds: {preds}')\n",
    "# 4개(5개씩)를 합치므로 4x5 = 20개\n",
    "\n",
    "net.eval()\n",
    "with torch.inference_mode():\n",
    "  x, y = next(iter(tst_Odl)) # 여기 2가지 케이스\n",
    "  x, y = x.to(device), y.to(device)\n",
    "y = y.cpu()\n",
    "p = p.cpu()"
   ]
  },
  {
   "cell_type": "code",
   "execution_count": 12,
   "metadata": {},
   "outputs": [
    {
     "name": "stdout",
     "output_type": "stream",
     "text": [
      "[16.203903 16.46556  16.673374 16.805906 16.858335 17.058403 17.137905\n",
      " 17.213787 17.421366 17.617924 17.877705 18.11665  18.283531 18.41277\n",
      " 18.473358 18.5568   18.685833 18.838732 19.044186 19.242672]\n"
     ]
    }
   ],
   "source": [
    "print(preds)"
   ]
  },
  {
   "cell_type": "code",
   "execution_count": 13,
   "metadata": {},
   "outputs": [
    {
     "name": "stdout",
     "output_type": "stream",
     "text": [
      "torch.Size([20, 1])\n",
      "(20,)\n",
      "torch.Size([20, 1])\n"
     ]
    }
   ],
   "source": [
    "print(p.shape)\n",
    "print(preds.shape)\n",
    "print(y.shape)"
   ]
  },
  {
   "cell_type": "code",
   "execution_count": 20,
   "metadata": {},
   "outputs": [],
   "source": [
    "y = y.numpy()"
   ]
  },
  {
   "cell_type": "code",
   "execution_count": 21,
   "metadata": {},
   "outputs": [],
   "source": [
    "y = y.flatten()"
   ]
  },
  {
   "cell_type": "code",
   "execution_count": 16,
   "metadata": {},
   "outputs": [
    {
     "data": {
      "text/plain": [
       "(array([ 0.      ,  0.      , 16.031519, 16.044752, 16.096214,  0.      ,\n",
       "         0.      , 16.512224, 15.563257, 15.755164,  0.      ,  0.      ,\n",
       "        12.188831, 12.765179, 12.726628,  0.      ,  0.      ,  9.251853,\n",
       "         9.38367 ,  8.557447], dtype=float32),\n",
       " array([15.5, 15.5, 15.7, 15.8, 15.8, 15.5, 15.7, 15.8, 15.8, 15.3, 15.7,\n",
       "        15.8, 15.8, 15.3, 15.8, 15.8, 15.8, 15.3, 15.8, 15.7, 15.8, 15.3,\n",
       "        15.8, 15.7, 14.9, 15.3, 15.8, 15.7, 14.9, 14.9, 15.8, 15.7, 14.9,\n",
       "        14.9, 15.1, 15.7, 14.9, 14.9, 15.1, 15.6, 14.9, 14.9, 15.1, 15.6,\n",
       "        15.4, 14.9, 15.1, 15.6, 15.4, 15. , 15.1, 15.6, 15.4, 15. , 15. ,\n",
       "        15.6, 15.4, 15. , 15. , 15.5, 15.4, 15. , 15. , 15.5, 15.2, 15. ,\n",
       "        15. , 15.5, 15.2, 15.3, 15. , 15.5, 15.2, 15.3, 14.4, 15.5, 15.2,\n",
       "        15.3, 14.4, 14.3], dtype=float32))"
      ]
     },
     "execution_count": 16,
     "metadata": {},
     "output_type": "execute_result"
    }
   ],
   "source": [
    "preds, y"
   ]
  },
  {
   "cell_type": "code",
   "execution_count": 22,
   "metadata": {},
   "outputs": [
    {
     "ename": "ValueError",
     "evalue": "operands could not be broadcast together with shapes (20,) (80,) ",
     "output_type": "error",
     "traceback": [
      "\u001b[0;31m---------------------------------------------------------------------------\u001b[0m",
      "\u001b[0;31mValueError\u001b[0m                                Traceback (most recent call last)",
      "Cell \u001b[0;32mIn[22], line 1\u001b[0m\n\u001b[0;32m----> 1\u001b[0m plt\u001b[38;5;241m.\u001b[39mtitle(\u001b[38;5;124mf\u001b[39m\u001b[38;5;124m\"\u001b[39m\u001b[38;5;124mNeural Network, MAPE:\u001b[39m\u001b[38;5;132;01m{\u001b[39;00mmape(preds,y)\u001b[38;5;132;01m:\u001b[39;00m\u001b[38;5;124m.4f\u001b[39m\u001b[38;5;132;01m}\u001b[39;00m\u001b[38;5;124m, MAE:\u001b[39m\u001b[38;5;132;01m{\u001b[39;00mmae(preds,y)\u001b[38;5;132;01m:\u001b[39;00m\u001b[38;5;124m.4f\u001b[39m\u001b[38;5;132;01m}\u001b[39;00m\u001b[38;5;124m\"\u001b[39m)\n\u001b[1;32m      2\u001b[0m plt\u001b[38;5;241m.\u001b[39mplot(\u001b[38;5;28mrange\u001b[39m(pred_size), y, label\u001b[38;5;241m=\u001b[39m\u001b[38;5;124m\"\u001b[39m\u001b[38;5;124mTrue\u001b[39m\u001b[38;5;124m\"\u001b[39m)\n\u001b[1;32m      3\u001b[0m plt\u001b[38;5;241m.\u001b[39mplot(\u001b[38;5;28mrange\u001b[39m(pred_size), preds, label\u001b[38;5;241m=\u001b[39m\u001b[38;5;124m\"\u001b[39m\u001b[38;5;124mPrediction\u001b[39m\u001b[38;5;124m\"\u001b[39m)\n",
      "Cell \u001b[0;32mIn[5], line 15\u001b[0m, in \u001b[0;36mmape\u001b[0;34m(y_pred, y_true)\u001b[0m\n\u001b[1;32m     14\u001b[0m \u001b[38;5;28;01mdef\u001b[39;00m \u001b[38;5;21mmape\u001b[39m(y_pred, y_true):\n\u001b[0;32m---> 15\u001b[0m   \u001b[38;5;28;01mreturn\u001b[39;00m (np\u001b[38;5;241m.\u001b[39mabs(\u001b[43my_pred\u001b[49m\u001b[43m \u001b[49m\u001b[38;5;241;43m-\u001b[39;49m\u001b[43m \u001b[49m\u001b[43my_true\u001b[49m)\u001b[38;5;241m/\u001b[39my_true)\u001b[38;5;241m.\u001b[39mmean() \u001b[38;5;241m*\u001b[39m \u001b[38;5;241m100\u001b[39m\n",
      "\u001b[0;31mValueError\u001b[0m: operands could not be broadcast together with shapes (20,) (80,) "
     ]
    }
   ],
   "source": [
    "plt.title(f\"Neural Network, MAPE:{mape(preds,y):.4f}, MAE:{mae(preds,y):.4f}\")\n",
    "plt.plot(range(pred_size), y, label=\"True\")\n",
    "plt.plot(range(pred_size), preds, label=\"Prediction\")\n",
    "plt.legend()\n",
    "plt.show()"
   ]
  },
  {
   "cell_type": "code",
   "execution_count": 17,
   "metadata": {},
   "outputs": [
    {
     "data": {
      "image/png": "[encoded data removed]",
      "text/plain": [
       "<Figure size 640x480 with 1 Axes>"
      ]
     },
     "metadata": {},
     "output_type": "display_data"
    }
   ],
   "source": [
    "plt.title(f\"Neural Network, MAPE:{mape(p, y):.4f}, MAE:{mae(p, y):.4f}\")\n",
    "plt.plot(range(1, pred_size+1), y, label=\"True\")\n",
    "plt.plot(range(pred_size), p, label=\"Prediction\")\n",
    "plt.legend()\n",
    "plt.show()"
   ]
  },
  {
   "cell_type": "code",
   "execution_count": 29,
   "metadata": {},
   "outputs": [
    {
     "name": "stdout",
     "output_type": "stream",
     "text": [
      "tensor(0.3107)\n"
     ]
    }
   ],
   "source": [
    "print(mape(p[1:], y[:-1]))"
   ]
  },
  {
   "cell_type": "code",
   "execution_count": 18,
   "metadata": {},
   "outputs": [
    {
     "data": {
      "image/png": "[encoded data removed]",
      "text/plain": [
       "<Figure size 640x480 with 1 Axes>"
      ]
     },
     "metadata": {},
     "output_type": "display_data"
    }
   ],
   "source": [
    "plt.title(f\"Neural Network, MAPE:{mape(p, y):.4f}, MAE:{mae(p ,y):.4f}\")\n",
    "plt.plot(range(len(y)), y, label=\"True\")\n",
    "plt.plot(range(len(p)), p, label=\"Prediction\")\n",
    "plt.legend()\n",
    "plt.show()"
   ]
  }
 ],
 "metadata": {
  "kernelspec": {
   "display_name": "cudaJung",
   "language": "python",
   "name": "python3"
  },
  "language_info": {
   "codemirror_mode": {
    "name": "ipython",
    "version": 3
   },
   "file_extension": ".py",
   "mimetype": "text/x-python",
   "name": "python",
   "nbconvert_exporter": "python",
   "pygments_lexer": "ipython3",
   "version": "3.10.13"
  }
 },
 "nbformat": 4,
 "nbformat_minor": 2
}
